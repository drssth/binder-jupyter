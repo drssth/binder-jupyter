{
 "cells": [
  {
   "cell_type": "code",
   "execution_count": 3,
   "id": "95a9a90b-9146-4c74-b117-f2be897b3872",
   "metadata": {},
   "outputs": [],
   "source": [
    "def C2F(Cs):\n",
    "    Fs = []\n",
    "    for C in Cs:\n",
    "        Fs.append(C*1.8 + 32.0)\n",
    "    return Fs"
   ]
  },
  {
   "cell_type": "code",
   "execution_count": 4,
   "id": "2edfbe50-6c62-46f5-8e1b-919998c6d2be",
   "metadata": {},
   "outputs": [
    {
     "data": {
      "text/plain": [
       "[32.0, 100.4]"
      ]
     },
     "execution_count": 4,
     "metadata": {},
     "output_type": "execute_result"
    }
   ],
   "source": [
    "C2F([0, 38])"
   ]
  },
  {
   "cell_type": "code",
   "execution_count": 8,
   "id": "f1d9e1f5-6300-4df5-ba68-317fb6810bf6",
   "metadata": {},
   "outputs": [],
   "source": [
    "def RevLst(ls):\n",
    "    r = ls.copy()\n",
    "    r.reverse()\n",
    "    return r"
   ]
  },
  {
   "cell_type": "code",
   "execution_count": 9,
   "id": "26875da4-4da1-4200-be50-941be3ebd87a",
   "metadata": {},
   "outputs": [
    {
     "name": "stdout",
     "output_type": "stream",
     "text": [
      "[4, 8, 9, 1, 3]\n"
     ]
    }
   ],
   "source": [
    "print(RevLst([3,1,9,8,4]))"
   ]
  },
  {
   "cell_type": "code",
   "execution_count": null,
   "id": "c1f15f94-ac75-410d-84ed-bf89a6fc2a3a",
   "metadata": {},
   "outputs": [],
   "source": []
  }
 ],
 "metadata": {
  "kernelspec": {
   "display_name": "Python 3 (ipykernel)",
   "language": "python",
   "name": "python3"
  },
  "language_info": {
   "codemirror_mode": {
    "name": "ipython",
    "version": 3
   },
   "file_extension": ".py",
   "mimetype": "text/x-python",
   "name": "python",
   "nbconvert_exporter": "python",
   "pygments_lexer": "ipython3",
   "version": "3.7.12"
  }
 },
 "nbformat": 4,
 "nbformat_minor": 5
}
